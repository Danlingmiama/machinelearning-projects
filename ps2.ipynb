{
 "cells": [
  {
   "cell_type": "markdown",
   "metadata": {},
   "source": [
    "# Problem Set 2 - Danling Ma"
   ]
  },
  {
   "cell_type": "markdown",
   "metadata": {},
   "source": [
    "# 1. Write a short Python program to explore some simulated classification data. \n",
    "\n",
    "First generate a vector of length nmc=100 of uniform random numbers. Then use these to generate y values of 0 or 1, where the x value is the probability of y = 1. Here is some code to do this."
   ]
  },
  {
   "cell_type": "code",
   "execution_count": 24,
   "metadata": {},
   "outputs": [],
   "source": [
    "import numpy as np\n",
    "from sklearn.model_selection import train_test_split\n",
    "\n",
    "# These lines of code generate a feature and a class randomly with a monte-carlo\n",
    "# The features are uniform(0,1)\n",
    "# Class is a (0,1) integer where prob(1) = X[i]\n",
    "nmc = 100\n",
    "# X needs to be a matrix with nmc rows, and 1 column\n",
    "X = np.random.uniform(size=(nmc,1))\n",
    "Y = np.zeros(nmc,dtype=int)+( np.random.uniform(size=nmc)<X)\n",
    "# This is the code for splitting into test/train sets, note test_size argument\n",
    "X_train,X_test,Y_train,Y_test = train_test_split(X,Y,test_size=0.5)"
   ]
  },
  {
   "cell_type": "markdown",
   "metadata": {},
   "source": [
    "## Write a Python program to do nearest neighbor prediction for y as we did in class. Divide your data (50/50) into a training and test set.\n",
    "\n",
    "## 1.1 \n",
    "Write a k nearest neighbor predictor for your data, using k=3. Report the accuracy both for the training and testing sample.\n"
   ]
  },
  {
   "cell_type": "code",
   "execution_count": 25,
   "metadata": {},
   "outputs": [
    {
     "name": "stdout",
     "output_type": "stream",
     "text": [
      "Train set accuracy: 0.76\n",
      "Test set accuracy: 0.34\n"
     ]
    }
   ],
   "source": [
    "from sklearn.neighbors import KNeighborsClassifier \n",
    "knn = KNeighborsClassifier(n_neighbors = 3)\n",
    "knn.fit(X_train, Y_train)\n",
    "print('Train set accuracy:', knn.score(X_train, Y_train))\n",
    "print('Test set accuracy:', knn.score(X_test, Y_test))"
   ]
  },
  {
   "cell_type": "markdown",
   "metadata": {},
   "source": [
    "## 1.2 \n",
    "Now repeat the figure we tried in class which showed forecast accuracy in training and testing sets as k varies. Plot the accuracy for nearest neighbor predictors across the range of 1 to 50. Do this for both the training and testing data as we did in class."
   ]
  },
  {
   "cell_type": "code",
   "execution_count": 26,
   "metadata": {},
   "outputs": [
    {
     "data": {
      "image/png": "[encoded data removed]",
      "text/plain": [
       "<Figure size 432x288 with 1 Axes>"
      ]
     },
     "metadata": {},
     "output_type": "display_data"
    }
   ],
   "source": [
    "import matplotlib.pyplot as plt\n",
    "\n",
    "X_train,X_test,Y_train,Y_test = train_test_split(X,Y,test_size=0.5)\n",
    "training_accuracy = []\n",
    "test_accuracy = []\n",
    "# try n_neighbors from 1 to 10\n",
    "neighbors_settings = range(1, 51, 1)\n",
    "\n",
    "for n_neighbors in neighbors_settings:\n",
    "    # build the model\n",
    "    knn = KNeighborsClassifier(n_neighbors=n_neighbors)\n",
    "    knn.fit(X_train, Y_train)\n",
    "    # record training set accuracy\n",
    "    training_accuracy.append(knn.score(X_train, Y_train))\n",
    "    # record generalization accuracy\n",
    "    test_accuracy.append(knn.score(X_test, Y_test))\n",
    "    \n",
    "plt.plot(neighbors_settings, training_accuracy, label=\"train accuracy\")\n",
    "plt.plot(neighbors_settings, test_accuracy, label=\"test accuracy\")\n",
    "plt.ylabel(\"Accuracy\")\n",
    "plt.xlabel(\"Neighbors\")\n",
    "plt.title(\"Test & Train Accuracy\")\n",
    "plt.legend()\n",
    "plt.grid()\n",
    "plt.show()"
   ]
  },
  {
   "cell_type": "markdown",
   "metadata": {},
   "source": [
    "# 2. This problem explores linear regression along with ridge and lasso in a simple generated monte-carlo problem. \n",
    "First, to get things working you will need to load these routines into python."
   ]
  },
  {
   "cell_type": "code",
   "execution_count": 27,
   "metadata": {},
   "outputs": [],
   "source": [
    "# Load helpers\n",
    "# Will try to just load what I need on this\n",
    "%matplotlib inline\n",
    "import numpy as np\n",
    "from sklearn.model_selection import train_test_split\n",
    "from sklearn.linear_model import LinearRegression\n",
    "from sklearn.linear_model import Ridge\n",
    "from sklearn.linear_model import Lasso\n",
    "from sklearn import linear_model\n",
    "import matplotlib as mpl\n",
    "import matplotlib.pyplot as plt\n",
    "\n",
    "# Function to generate linear data experiments\n",
    "def genLinData(N,M,noise):\n",
    "    # y = x_1 + x_2 .. x_M + eps\n",
    "    # X's scaled so the variance of explained part is same order as noise variance (if eps = 1)\n",
    "    sigNoise = np.sqrt(1./M)\n",
    "    # set up random beta for regression\n",
    "    beta = np.random.normal(size=(M,1),loc=0.,scale=1.)\n",
    "    # force smaller betas to zero\n",
    "    beta[abs(beta)<1.0]=0.\n",
    "    # bused is the fraction of nonzero beta's\n",
    "    betaUsed= np.sum( beta != 0)\n",
    "    X = np.random.normal(size=(N,M),loc=0,scale=sigNoise)\n",
    "    eps = np.random.normal(size=(N,1),loc=0,scale=noise)\n",
    "    # Python 2.7 users, this is the nifty new\n",
    "    # python 3.6 notation for matrices\n",
    "    # For nonmatrix students, this is the sum of the betas's time each X(m)\n",
    "    # across all i\n",
    "    y = X @ beta + eps\n",
    "    #sum of βi*X1i\n",
    "    return X,y, betaUsed"
   ]
  },
  {
   "cell_type": "markdown",
   "metadata": {},
   "source": [
    "## 2.1 \n",
    "First, generate one set of X,y data with sample length 300, with\n",
    "M = 50 forecast variables, and noise=1. Do a short (iterations 100) monte-carlo run with the same set of data, but **different random train/test splits** (don’t use the random_state parameter since that fixes the random draws). Set the test_size = 0.5 for all problems here. On each split fit a linear regression and record the train and test score (R-squared). Report the mean and standard deviation for both of these across the 100 monte-carlos. (Python note: This involves a for loop across the 100 monte-carlo runs. Each iteration of the loop involves a new train/test split of the original data. Store results in either list, or (better) a numpy array.) The following block illustrates a shell of a monte-carlo program as an example. Many of the pieces are not included."
   ]
  },
  {
   "cell_type": "code",
   "execution_count": 28,
   "metadata": {},
   "outputs": [
    {
     "name": "stdout",
     "output_type": "stream",
     "text": [
      "Train scores mean:  0.6429777399571964\n",
      "Train scores std:  0.03566216152565645\n",
      "----------------------------------------\n",
      "Test scores mean:  0.1493529088822266\n",
      "Test scores std:  0.11566133404381587\n"
     ]
    }
   ],
   "source": [
    "nmc = 100\n",
    "rsquareVec_train = np.zeros(nmc)\n",
    "rsquareVec_test = np.zeros(nmc)\n",
    "X,y, betaUsed = genLinData(300,50,1.)\n",
    "\n",
    "for i in range(nmc):\n",
    "    X_train,X_test,y_train,y_test = train_test_split(X,y,test_size=0.5)\n",
    "    reg = LinearRegression()\n",
    "    reg.fit(X_train, y_train)\n",
    "    rsquareVec_test[i] = reg.score(X_test,y_test)\n",
    "    rsquareVec_train[i] = reg.score(X_train,y_train)\n",
    "\n",
    "print(\"Train scores mean: \",np.mean(rsquareVec_train))\n",
    "print(\"Train scores std: \",np.std(rsquareVec_train))\n",
    "print(\"----------------------------------------\")\n",
    "print(\"Test scores mean: \",np.mean(rsquareVec_test))\n",
    "print(\"Test scores std: \",np.std(rsquareVec_test))"
   ]
  },
  {
   "cell_type": "markdown",
   "metadata": {},
   "source": [
    "## 2.2 \n",
    "Run this regression once on a sample size of 100,000. Report train and test scores. Are they close? Why or why not?"
   ]
  },
  {
   "cell_type": "code",
   "execution_count": 47,
   "metadata": {
    "scrolled": true
   },
   "outputs": [
    {
     "name": "stdout",
     "output_type": "stream",
     "text": [
      "Train scores:  0.3914433534791325\n",
      "Test scores:  0.3906898393580548\n"
     ]
    }
   ],
   "source": [
    "X,y, betaUsed = genLinData(100000,50,1.)\n",
    "X_train, X_test, y_train, y_test = train_test_split(X,y,test_size=0.5,random_state=0)\n",
    "reg = LinearRegression()\n",
    "reg.fit(X_train, y_train)\n",
    "\n",
    "print(\"Train scores: \",reg.score(X_train,y_train))\n",
    "print(\"Test scores: \",reg.score(X_test,y_test))"
   ]
  },
  {
   "cell_type": "markdown",
   "metadata": {},
   "source": [
    "* Yes.\n",
    "  Based on the OLS esitmation assumptions, as the sample size increases, the OLS estimators will be unbiased and consistent, which means the liner model will more accurate. That's why the fraction of test set explained by the model(i.e. scores) closes to that of the train set."
   ]
  },
  {
   "cell_type": "markdown",
   "metadata": {},
   "source": [
    "## 2.3 \n",
    "Now, run a monte-carlo (iterations 100) where on each run you **draw a new data set** (X,y)\n",
    "from a sample size of 300 (M=50, noise = 1.0) using the above function. On each run estimate a linear model, and record the training and testing scores, and save them. Report the mean and standard deviation for these scores."
   ]
  },
  {
   "cell_type": "code",
   "execution_count": 30,
   "metadata": {},
   "outputs": [
    {
     "name": "stdout",
     "output_type": "stream",
     "text": [
      "Train scores mean:  0.6264920178545579\n",
      "Train scores std:  0.05229135499812042\n",
      "----------------------------------------\n",
      "Test scores mean:  0.12780396300323374\n",
      "Test scores std:  0.18332295470253734\n"
     ]
    }
   ],
   "source": [
    "nmc = 100\n",
    "rsquareVec_test = np.zeros(nmc)\n",
    "rsquareVec_train = np.zeros(nmc)\n",
    "\n",
    "for i in range(nmc):\n",
    "    X,y, betaUsed = genLinData(300,50,1.0)\n",
    "    X_train,X_test,y_train,y_test = train_test_split(X,y,test_size=0.5)\n",
    "    reg = LinearRegression()\n",
    "    reg.fit(X_train, y_train)\n",
    "    rsquareVec_test[i] = reg.score(X_test,y_test)\n",
    "    rsquareVec_train[i] = reg.score(X_train,y_train)\n",
    "\n",
    "print(\"Train scores mean: \",np.mean(rsquareVec_train))\n",
    "print(\"Train scores std: \",np.std(rsquareVec_train))\n",
    "print(\"----------------------------------------\")\n",
    "print(\"Test scores mean: \",np.mean(rsquareVec_test))\n",
    "print(\"Test scores std: \",np.std(rsquareVec_test))"
   ]
  },
  {
   "cell_type": "markdown",
   "metadata": {},
   "source": [
    "## 2.4 \n",
    "Simulate **one new data set** using the parameters from the last problem.\n",
    "Now set up a Ridge regression. Set up a loop to sweep through alpha from 1 to 25 incremented by 1. Record the score for each ridge regression for each parameter. At the end, plot the R-squared scores for both the training and testing samples across the different values of alpha.\n"
   ]
  },
  {
   "cell_type": "code",
   "execution_count": 31,
   "metadata": {},
   "outputs": [
    {
     "data": {
      "text/plain": [
       "<matplotlib.legend.Legend at 0x1a22a13080>"
      ]
     },
     "execution_count": 31,
     "metadata": {},
     "output_type": "execute_result"
    },
    {
     "data": {
      "image/png": "[encoded data removed]",
      "text/plain": [
       "<Figure size 432x288 with 1 Axes>"
      ]
     },
     "metadata": {},
     "output_type": "display_data"
    }
   ],
   "source": [
    "scoreVec_train = []\n",
    "scoreVec_test = []\n",
    "\n",
    "X,y, betaUsed = genLinData(300,50,1)\n",
    "X_train,X_test,y_train,y_test = train_test_split(X,y,test_size=0.5)\n",
    "\n",
    "\n",
    "alphas = np.arange(1,26,1)\n",
    "for alpha in alphas:\n",
    "    ridge = Ridge(alpha)\n",
    "    ridge.fit(X_train, y_train)\n",
    "    scoreVec_train.append(ridge.score(X_train,y_train))\n",
    "    scoreVec_test.append(ridge.score(X_test,y_test))\n",
    "\n",
    "plt.plot(alphas, scoreVec_test, '-g', label='Test')\n",
    "plt.plot(alphas, scoreVec_train, ':b',label='Train')\n",
    "plt.xlabel(\"R^2\")\n",
    "plt.ylabel(\"Alpha\")\n",
    "plt.title(\"Test & Train Scores\")\n",
    "plt.grid()\n",
    "plt.legend()"
   ]
  },
  {
   "cell_type": "markdown",
   "metadata": {},
   "source": [
    "## 2.5 \n",
    "Now repeat this for a Lasso regression. However, this time\n",
    "sweep the alpha parameter from 0.01 through 0.03 incremented by 0.0005. Plot the two scores as you did in the last problem. Also, this time plot **the number of non zero coefficients estimated by Lasso** as a fraction of the **true non zero coefficients from the simulation**."
   ]
  },
  {
   "cell_type": "code",
   "execution_count": 37,
   "metadata": {},
   "outputs": [
    {
     "data": {
      "image/png": "[encoded data removed]",
      "text/plain": [
       "<Figure size 432x288 with 2 Axes>"
      ]
     },
     "metadata": {},
     "output_type": "display_data"
    }
   ],
   "source": [
    "X,y, betaUsed = genLinData(300,50,1.0)\n",
    "scoreVec_train = []\n",
    "scoreVec_test = []\n",
    "fraction = []\n",
    "X_train,X_test,y_train,y_test = train_test_split(X,y,test_size=0.5)\n",
    "\n",
    "alphas = np.arange(0.01,0.03,0.0005)\n",
    "for alpha in alphas:\n",
    "    lasso = Lasso(alpha=alpha)\n",
    "    lasso.fit(X_train, y_train)    \n",
    "    scoreVec_train.append(lasso.score(X_train, y_train))\n",
    "    scoreVec_test.append(lasso.score(X_test, y_test))\n",
    "    fraction.append(np.sum(lasso.fit(X_train, y_train).coef_!=0)/betaUsed)\n",
    "    \n",
    "plt.figure(1)\n",
    "plt.subplot(211)\n",
    "plt.plot(scoreVec_test, '-g', label='Test')\n",
    "plt.plot(scoreVec_train, ':b', color = 'red', label='Train')\n",
    "plt.legend()\n",
    "plt.title(\"Test & Train Scores\")\n",
    "plt.grid()\n",
    "plt.ylabel(\"R^2\")\n",
    "plt.xlabel(\"Alpha\")\n",
    "\n",
    "plt.subplot(212)\n",
    "plt.plot(fraction,label='Fraction')\n",
    "plt.xlabel(\"Alpha\")\n",
    "plt.legend()\n",
    "plt.grid()\n",
    "plt.show()"
   ]
  }
 ],
 "metadata": {
  "kernelspec": {
   "display_name": "Python 3",
   "language": "python",
   "name": "python3"
  },
  "language_info": {
   "codemirror_mode": {
    "name": "ipython",
    "version": 3
   },
   "file_extension": ".py",
   "mimetype": "text/x-python",
   "name": "python",
   "nbconvert_exporter": "python",
   "pygments_lexer": "ipython3",
   "version": "3.6.5"
  }
 },
 "nbformat": 4,
 "nbformat_minor": 2
}
